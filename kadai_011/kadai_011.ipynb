{
  "nbformat": 4,
  "nbformat_minor": 0,
  "metadata": {
    "colab": {
      "provenance": [],
      "authorship_tag": "ABX9TyP3e2uTvzfJ+jiAhD18eSqs"
    },
    "kernelspec": {
      "name": "python3",
      "display_name": "Python 3"
    },
    "language_info": {
      "name": "python"
    }
  },
  "cells": [
    {
      "cell_type": "code",
      "source": [
        "# リストの中身を先頭から全て取り出して、出力結果が以下のようになるプログラムを、for、while、それぞれを利用して記述して下さい。\n",
        "\n",
        "# カウンタ変数をtとする\n",
        "t = 1\n",
        "\n",
        "list = [\"水\",\"金\",\"地\",\"火\",\"木\",\"土\",\"天\",\"海\",\"冥\"]\n",
        "\n",
        "# 2回目までならリストの文字を出力\n",
        "while t != 3:\n",
        "    for index, value in enumerate(list):\n",
        "        print(f\"{value}\")\n",
        "\n",
        "# 3回目になったらストップ\n",
        "    if t == 3:\n",
        "        break\n",
        "\n",
        "    t = t + 1\n",
        "\n",
        ""
      ],
      "metadata": {
        "colab": {
          "base_uri": "https://localhost:8080/"
        },
        "id": "IMj7Y3EF6u0M",
        "outputId": "e71eeafd-9d5b-443a-b9ff-dd231fd4e8ba"
      },
      "execution_count": 21,
      "outputs": [
        {
          "output_type": "stream",
          "name": "stdout",
          "text": [
            "水\n",
            "金\n",
            "地\n",
            "火\n",
            "木\n",
            "土\n",
            "天\n",
            "海\n",
            "冥\n",
            "水\n",
            "金\n",
            "地\n",
            "火\n",
            "木\n",
            "土\n",
            "天\n",
            "海\n",
            "冥\n"
          ]
        }
      ]
    },
    {
      "cell_type": "code",
      "source": [],
      "metadata": {
        "id": "5BCX-HBX-fVg"
      },
      "execution_count": null,
      "outputs": []
    }
  ]
}