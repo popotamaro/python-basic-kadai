{
  "nbformat": 4,
  "nbformat_minor": 0,
  "metadata": {
    "colab": {
      "provenance": [],
      "authorship_tag": "ABX9TyN9LkJ4zSHlLoCQj2ZI8843"
    },
    "kernelspec": {
      "name": "python3",
      "display_name": "Python 3"
    },
    "language_info": {
      "name": "python"
    }
  },
  "cells": [
    {
      "cell_type": "code",
      "execution_count": 1,
      "metadata": {
        "colab": {
          "base_uri": "https://localhost:8080/"
        },
        "id": "ee0MYEwiGsl2",
        "outputId": "0aa7a5ac-2ec2-44b4-a368-1dc15d34f841"
      },
      "outputs": [
        {
          "output_type": "stream",
          "name": "stdout",
          "text": [
            "330.0円\n"
          ]
        }
      ],
      "source": [
        "def calculate_total(price,tax):\n",
        "    total = price * tax\n",
        "    print(f\"{total}円\")\n",
        "\n",
        "calculate_total(300,1.1)"
      ]
    }
  ]
}