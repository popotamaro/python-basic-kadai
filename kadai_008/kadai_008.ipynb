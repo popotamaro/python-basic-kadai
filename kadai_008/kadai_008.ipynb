{
  "nbformat": 4,
  "nbformat_minor": 0,
  "metadata": {
    "colab": {
      "provenance": [],
      "authorship_tag": "ABX9TyNTAGYM2dG1UboZGo1e3Hn2"
    },
    "kernelspec": {
      "name": "python3",
      "display_name": "Python 3"
    },
    "language_info": {
      "name": "python"
    }
  },
  "cells": [
    {
      "cell_type": "code",
      "execution_count": 13,
      "metadata": {
        "colab": {
          "base_uri": "https://localhost:8080/"
        },
        "id": "hMyMR9x_8mqV",
        "outputId": "94159173-3bcc-4ab1-c2c5-2498c740597a"
      },
      "outputs": [
        {
          "output_type": "stream",
          "name": "stdout",
          "text": [
            "14\n"
          ]
        }
      ],
      "source": [
        "#変数varが、3の倍数の場合は「Fizz」を出力\n",
        "import random\n",
        "var = random.randint(0,20)\n",
        "\n",
        "if var%3 == 0 and var%5 != 0:\n",
        "    print(\"Fizz\")\n",
        "\n",
        "#変数varが、5の倍数の場合は「Buzz」を出力\n",
        "elif var%5 == 0  and var%3 != 0:\n",
        "    print(\"Buzz\")\n",
        "\n",
        "#変数varが、3の倍数と5の倍数の両方に該当する場合は「FizzBuzz」を出力\n",
        "elif var%3 == 0 and var%5 == 5:\n",
        "    print(\"FizzBuzz\")\n",
        "\n",
        "#上記のどの場合にも該当しない場合は、変数varの値を出力\n",
        "else:\n",
        "    print(var)"
      ]
    }
  ]
}