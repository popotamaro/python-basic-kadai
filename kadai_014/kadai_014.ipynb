{
  "nbformat": 4,
  "nbformat_minor": 0,
  "metadata": {
    "colab": {
      "provenance": [],
      "authorship_tag": "ABX9TyMy9Be8BdG594Ny/xeyHEe/"
    },
    "kernelspec": {
      "name": "python3",
      "display_name": "Python 3"
    },
    "language_info": {
      "name": "python"
    }
  },
  "cells": [
    {
      "cell_type": "code",
      "execution_count": null,
      "metadata": {
        "id": "rqg8qXdgCeIO"
      },
      "outputs": [],
      "source": []
    },
    {
      "cell_type": "code",
      "source": [
        "tax = 1.1\n",
        "\n",
        "def total():\n",
        "    price1 = 100\n",
        "    price2 = 200\n",
        "    return  price1 + price2\n",
        "\n",
        "print(total() * tax)\n"
      ],
      "metadata": {
        "colab": {
          "base_uri": "https://localhost:8080/"
        },
        "id": "1k0rGVrcDbWZ",
        "outputId": "b98cbb00-c348-4fd7-e706-77434295a7a9"
      },
      "execution_count": 26,
      "outputs": [
        {
          "output_type": "stream",
          "name": "stdout",
          "text": [
            "330.0\n"
          ]
        }
      ]
    }
  ]
}